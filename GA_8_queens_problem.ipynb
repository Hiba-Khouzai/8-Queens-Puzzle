{
 "cells": [
  {
   "cell_type": "code",
   "execution_count": 1,
   "metadata": {},
   "outputs": [],
   "source": [
    "import numpy as np\n",
    "import matplotlib.pyplot as plt\n",
    "from scipy.spatial.distance import cdist\n",
    "\n",
    "\n",
    "def pop(nb_lignes):\n",
    "    \"\"\" \n",
    "    this func inistiatizes a nb_ligneX8 matrix with random values\n",
    "    ranging from 0 to 7 \"\"\"\n",
    "    \n",
    "    return np.random.randint(8,size=(nb_lignes,8))"
   ]
  },
  {
   "cell_type": "code",
   "execution_count": null,
   "metadata": {},
   "outputs": [],
   "source": [
    "\n",
    "def fitness(pop):\n",
    "    \"\"\" \n",
    "    this func loops over the individuals in the pop, for each ind it checks whether\n",
    "    each pos of queen has a target either diagonally or horizontally\n",
    "    if there happens to be one both parties get each 1 added to their pos in the\n",
    "    fitness_list, once we check all the pos of queen on the right (j reached 8, i=1 next),\n",
    "    it starts checking from the ith + 1 pos to avoid redundancy \"\"\"\n",
    " \n",
    "    \n",
    "    fitness_list=[]\n",
    "    max=-1000\n",
    "    for T in pop:\n",
    "        tab=np.zeros(8)\n",
    "        for i in range(8):\n",
    "            for j in range(i+1,8):\n",
    "                if(T[j]==T[i]-j+i):\n",
    "                    tab[i]+=1\n",
    "                    tab[j]+=1\n",
    "\n",
    "                if(T[j]==T[i]+j-i):\n",
    "                    tab[i]+=1\n",
    "                    tab[j]+=1  \n",
    "\n",
    "                if(T[i]==T[j]):\n",
    "                    tab[i]+=1\n",
    "                    tab[j]+=1   \n",
    "                    \n",
    "        fitness_list.append(-sum(tab))            \n",
    "            \n",
    "                \n",
    "    return fitness_list"
   ]
  }
 ],
 "metadata": {
  "kernelspec": {
   "display_name": "htf",
   "language": "python",
   "name": "python3"
  },
  "language_info": {
   "codemirror_mode": {
    "name": "ipython",
    "version": 3
   },
   "file_extension": ".py",
   "mimetype": "text/x-python",
   "name": "python",
   "nbconvert_exporter": "python",
   "pygments_lexer": "ipython3",
   "version": "3.10.9"
  }
 },
 "nbformat": 4,
 "nbformat_minor": 2
}
