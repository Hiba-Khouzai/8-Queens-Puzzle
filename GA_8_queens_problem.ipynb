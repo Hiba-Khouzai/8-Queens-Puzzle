{
 "cells": [
  {
   "cell_type": "code",
   "execution_count": 1,
   "metadata": {},
   "outputs": [],
   "source": [
    "import numpy as np\n",
    "import matplotlib.pyplot as plt\n",
    "from scipy.spatial.distance import cdist\n",
    "\n",
    "\n",
    "def pop(nb_lignes):\n",
    "    # this func inistiatizes a nb_ligneX8 matrix with random values\n",
    "    # ranging from 0 to 7\n",
    "    \n",
    "    return np.random.randint(8,size=(nb_lignes,8))"
   ]
  }
 ],
 "metadata": {
  "kernelspec": {
   "display_name": "htf",
   "language": "python",
   "name": "python3"
  },
  "language_info": {
   "codemirror_mode": {
    "name": "ipython",
    "version": 3
   },
   "file_extension": ".py",
   "mimetype": "text/x-python",
   "name": "python",
   "nbconvert_exporter": "python",
   "pygments_lexer": "ipython3",
   "version": "3.10.9"
  }
 },
 "nbformat": 4,
 "nbformat_minor": 2
}
