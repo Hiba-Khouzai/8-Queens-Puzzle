{
 "cells": [
  {
   "cell_type": "markdown",
   "metadata": {},
   "source": [
    "# 8 Queens Puzzle solved using Genetic algorithm"
   ]
  },
  {
   "cell_type": "code",
   "execution_count": 2,
   "metadata": {},
   "outputs": [],
   "source": [
    "import numpy as np\n",
    "import matplotlib.pyplot as plt\n",
    "from scipy.spatial.distance import cdist\n",
    "\n",
    "\n",
    "def pop(nb_lignes):\n",
    "    \"\"\" \n",
    "    this func inistiatizes a nb_ligneX8 matrix with random values\n",
    "    ranging from 0 to 7 \"\"\"\n",
    "    \n",
    "    return np.random.randint(8,size=(nb_lignes,8))"
   ]
  },
  {
   "cell_type": "code",
   "execution_count": null,
   "metadata": {},
   "outputs": [],
   "source": [
    "\n",
    "def fitness(pop):\n",
    "    \"\"\" \n",
    "    this func loops over the individuals in the pop, for each ind it checks whether\n",
    "    each pos of queen has a target either diagonally or horizontally\n",
    "    if there happens to be one both parties get each 1 added to their pos in the\n",
    "    fitness_list, once we check all the pos of queen on the right (j reached 8, i=1 next),\n",
    "    it starts checking from the ith + 1 pos to avoid redundancy \"\"\"\n",
    " \n",
    "    \n",
    "    fitness_list=[]\n",
    "    max=-1000\n",
    "    for T in pop:\n",
    "        tab=np.zeros(8)\n",
    "        for i in range(8):\n",
    "            for j in range(i+1,8):\n",
    "                if(T[j]==T[i]-j+i):\n",
    "                    tab[i]+=1\n",
    "                    tab[j]+=1\n",
    "\n",
    "                if(T[j]==T[i]+j-i):\n",
    "                    tab[i]+=1\n",
    "                    tab[j]+=1  \n",
    "\n",
    "                if(T[i]==T[j]):\n",
    "                    tab[i]+=1\n",
    "                    tab[j]+=1   \n",
    "                    \n",
    "        fitness_list.append(-sum(tab))            \n",
    "            \n",
    "                \n",
    "    return fitness_list"
   ]
  },
  {
   "cell_type": "code",
   "execution_count": null,
   "metadata": {},
   "outputs": [],
   "source": [
    "def Selection(popu, fitness_pop):\n",
    "    \"\"\"\n",
    "    this func computes -a weighted list- and the probability of each fitness based on the list,\n",
    "    then chooses randomly indexes with respect to the heighest probabilities\n",
    "    it returns the correspondant population \"\"\"\n",
    "    \n",
    "    new_list=fitness_pop-min(fitness_pop)+1\n",
    "    probabilités = new_list/sum(new_list)\n",
    "    indices = np.arange(fitness_pop.shape[0])\n",
    "    ind_pop=np.random.choice(indices, size=fitness_pop.shape[0], p=probabilités)\n",
    "   \n",
    "    return popu[tuple([ind_pop])]"
   ]
  },
  {
   "cell_type": "code",
   "execution_count": null,
   "metadata": {},
   "outputs": [],
   "source": [
    "def crossover(parent1, parent2, Threshold):\n",
    "    # this func crosses over two parents : parent1 and parent2, by taking one slice of the former \n",
    "    # and concatenate it with a slice of the latter, same goes for child2, the slicing is done based on a\n",
    "    # random int m, this occurs only if the threshold we chose is greater than and random number r \n",
    "    \n",
    "    \n",
    "    r = np.random.random()\n",
    "    if(r < Threshold):\n",
    "        m = np.random.randint(1,8)\n",
    "        \n",
    "        child1 = np.concatenate([parent1[:m],parent2[m:]])\n",
    "        child2 = np.concatenate([parent2[:m],parent1[m:]])\n",
    "    else:\n",
    "        child1=parent1.copy()\n",
    "        child2=parent2.copy()\n",
    "        \n",
    "    return child1,child2"
   ]
  },
  {
   "cell_type": "code",
   "execution_count": null,
   "metadata": {},
   "outputs": [],
   "source": [
    "def mutation(individu, proba_mutation):\n",
    "    # this func changes random position's value in an individual with a random integer < 8\n",
    "    # only if a random r is lower than a certain small proba_mutation\n",
    "    \n",
    "    r = np.random.random()\n",
    "    if r < proba_mutation:\n",
    "        m = np.random.randint(8)\n",
    "        individu[m] = np.random.randint(8)\n",
    "    return individu"
   ]
  },
  {
   "cell_type": "code",
   "execution_count": null,
   "metadata": {},
   "outputs": [],
   "source": [
    "def crossover_mutation(A, Threshold, proba_mutation):\n",
    "    # this func combines both crossover and mutation to render a list of crossed over/mutated individuals\n",
    "\n",
    "    liste_children_mute = []\n",
    "    for i in range(0,A.shape[0],2):\n",
    "        for Ind in crossover(A[i], A[i+1], Threshold):\n",
    "            b = mutation(Ind, proba_mutation)\n",
    "            liste_children_mute.append(b)\n",
    "    \n",
    "   \n",
    "    return np.array(liste_children_mute)"
   ]
  }
 ],
 "metadata": {
  "kernelspec": {
   "display_name": "htf",
   "language": "python",
   "name": "python3"
  },
  "language_info": {
   "codemirror_mode": {
    "name": "ipython",
    "version": 3
   },
   "file_extension": ".py",
   "mimetype": "text/x-python",
   "name": "python",
   "nbconvert_exporter": "python",
   "pygments_lexer": "ipython3",
   "version": "3.10.9"
  }
 },
 "nbformat": 4,
 "nbformat_minor": 2
}
