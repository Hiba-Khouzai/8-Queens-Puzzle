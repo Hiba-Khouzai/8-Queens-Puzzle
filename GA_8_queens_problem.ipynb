{
 "cells": [
  {
   "cell_type": "markdown",
   "metadata": {},
   "source": [
    "# 8 Queens Puzzle solved using Genetic algorithm"
   ]
  },
  {
   "cell_type": "code",
   "execution_count": 1,
   "metadata": {},
   "outputs": [],
   "source": [
    "import numpy as np\n",
    "import matplotlib.pyplot as plt\n",
    "from scipy.spatial.distance import cdist\n",
    "\n",
    "\n",
    "def pop(nb_lignes):\n",
    "    \"\"\" \n",
    "    this func inistiatizes a nb_ligneX8 matrix with random values\n",
    "    ranging from 0 to 7 \"\"\"\n",
    "    \n",
    "    return np.random.randint(8,size=(nb_lignes,8))"
   ]
  },
  {
   "cell_type": "code",
   "execution_count": 2,
   "metadata": {},
   "outputs": [],
   "source": [
    "\n",
    "def fitness(pop):\n",
    "    \"\"\" \n",
    "    this func loops over the individuals in the pop, for each ind it checks whether\n",
    "    each pos of queen has a target either diagonally or horizontally\n",
    "    if there happens to be one both parties get each 1 added to their pos in the\n",
    "    fitness_list, once we check all the pos of queen on the right (j reached 8, i=1 next),\n",
    "    it starts checking from the ith + 1 pos to avoid redundancy \"\"\"\n",
    " \n",
    "    \n",
    "    fitness_list=[]\n",
    "    max=-1000\n",
    "    for T in pop:\n",
    "        tab=np.zeros(8)\n",
    "        for i in range(8):\n",
    "            for j in range(i+1,8):\n",
    "                if(T[j]==T[i]-j+i):\n",
    "                    tab[i]+=1\n",
    "                    tab[j]+=1\n",
    "\n",
    "                if(T[j]==T[i]+j-i):\n",
    "                    tab[i]+=1\n",
    "                    tab[j]+=1  \n",
    "\n",
    "                if(T[i]==T[j]):\n",
    "                    tab[i]+=1\n",
    "                    tab[j]+=1   \n",
    "                    \n",
    "        fitness_list.append(-sum(tab))            \n",
    "            \n",
    "                \n",
    "    return fitness_list"
   ]
  },
  {
   "cell_type": "code",
   "execution_count": 3,
   "metadata": {},
   "outputs": [],
   "source": [
    "def Selection(popu, fitness_pop):\n",
    "    \"\"\"\n",
    "    this func computes -a weighted list- and the probability of each fitness based on the list,\n",
    "    then chooses randomly indexes with respect to the heighest probabilities\n",
    "    it returns the correspondant population \"\"\"\n",
    "    \n",
    "    new_list=fitness_pop-min(fitness_pop)+1\n",
    "    probabilités = new_list/sum(new_list)\n",
    "    indices = np.arange(fitness_pop.shape[0])\n",
    "    ind_pop=np.random.choice(indices, size=fitness_pop.shape[0], p=probabilités)\n",
    "   \n",
    "    return popu[tuple([ind_pop])]"
   ]
  },
  {
   "cell_type": "code",
   "execution_count": 4,
   "metadata": {},
   "outputs": [],
   "source": [
    "def crossover(parent1, parent2, Threshold):\n",
    "    # this func crosses over two parents : parent1 and parent2, by taking one slice of the former \n",
    "    # and concatenate it with a slice of the latter, same goes for child2, the slicing is done based on a\n",
    "    # random int m, this occurs only if the threshold we chose is greater than and random number r \n",
    "    \n",
    "    \n",
    "    r = np.random.random()\n",
    "    if(r < Threshold):\n",
    "        m = np.random.randint(1,8)\n",
    "        \n",
    "        child1 = np.concatenate([parent1[:m],parent2[m:]])\n",
    "        child2 = np.concatenate([parent2[:m],parent1[m:]])\n",
    "    else:\n",
    "        child1=parent1.copy()\n",
    "        child2=parent2.copy()\n",
    "        \n",
    "    return child1,child2"
   ]
  },
  {
   "cell_type": "code",
   "execution_count": 5,
   "metadata": {},
   "outputs": [],
   "source": [
    "def mutation(individu, proba_mutation):\n",
    "    # this func changes random position's value in an individual with a random integer < 8\n",
    "    # only if a random r is lower than a certain small proba_mutation\n",
    "    \n",
    "    r = np.random.random()\n",
    "    if r < proba_mutation:\n",
    "        m = np.random.randint(8)\n",
    "        individu[m] = np.random.randint(8)\n",
    "    return individu"
   ]
  },
  {
   "cell_type": "code",
   "execution_count": 6,
   "metadata": {},
   "outputs": [],
   "source": [
    "def crossover_mutation(A, Threshold, proba_mutation):\n",
    "    # this func combines both crossover and mutation to render a list of crossed over/mutated individuals\n",
    "\n",
    "    liste_children_mute = []\n",
    "    for i in range(0,A.shape[0],2):\n",
    "        for Ind in crossover(A[i], A[i+1], Threshold):\n",
    "            b = mutation(Ind, proba_mutation)\n",
    "            liste_children_mute.append(b)\n",
    "    \n",
    "   \n",
    "    return np.array(liste_children_mute)"
   ]
  },
  {
   "cell_type": "code",
   "execution_count": 7,
   "metadata": {},
   "outputs": [],
   "source": [
    "def eight_queens(taille_pop, max_gen, Threshold, proba_mutat):\n",
    "    # this func assembles all the ingredients needed for the eight_queens recipe\n",
    "    # it tries to maximize the fitness i.e. minimize the penalty (0 is the best one)\n",
    "    # it takes as parameters the size of pop, max iterations, a threshold and a mutation probability   \n",
    "    # it then creates a population, computes the best fitness and repeats the process until this best\n",
    "    # fitness reaches 0, the respective individual is the optimum solution \n",
    "\n",
    "    population = pop(taille_pop)\n",
    "    la_meilleure_fitness = 0\n",
    "    for ig in range(max_gen):\n",
    "        liste_fitness = np.array(fitness(population))\n",
    "        meilleur_ind  = liste_fitness.argmax()\n",
    "        meilleure_fitness = liste_fitness[meilleur_ind]\n",
    "        if(la_meilleure_fitness == 0 or meilleure_fitness > la_meilleure_fitness):\n",
    "            la_meilleure_fitness = meilleure_fitness\n",
    "            meilleure_solution = population[meilleur_ind]\n",
    "        \n",
    "        if meilleure_fitness == 0 :\n",
    "            break;\n",
    "            \n",
    "        pop_selectionnée = Selection(population, liste_fitness) \n",
    "        population = crossover_mutation(pop_selectionnée, Threshold, proba_mutat)\n",
    "    print(meilleure_fitness,\"à la \",ig,\" ième gen\")\n",
    "            \n",
    "    return meilleure_solution "
   ]
  },
  {
   "cell_type": "code",
   "execution_count": 8,
   "metadata": {},
   "outputs": [],
   "source": [
    "def visualisation(L):\n",
    "    \n",
    "    A = np.ones((8, 8), dtype = np.uint)\n",
    "    for j in range(L.shape[0]):\n",
    "        A[L[j],j] = 0\n",
    "\n",
    "    fig = plt.figure()\n",
    "\n",
    "    \n",
    "    colormap = plt.cm.binary\n",
    "    plt.matshow(A, cmap=colormap)\n",
    "    plt.colorbar()\n",
    "\n",
    "    ax = plt.gca()\n",
    "\n",
    "    ax.set_xticks(np.arange(-.5, (8), 1), minor=True)\n",
    "    ax.set_yticks(np.arange(-.5, (8), 1), minor=True)\n",
    "\n",
    "    ax.grid(which='minor', color='w', linestyle='-', linewidth=1)\n",
    "\n",
    "    plt.xticks([])\n",
    "    plt.yticks([])\n",
    "    plt.show() "
   ]
  },
  {
   "cell_type": "code",
   "execution_count": 9,
   "metadata": {},
   "outputs": [
    {
     "name": "stdout",
     "output_type": "stream",
     "text": [
      "-0.0 à la  23  ième gen\n"
     ]
    }
   ],
   "source": [
    "# Test\n",
    "L = eight_queens(1000, 10000, 0.7, 0.01)\n"
   ]
  },
  {
   "cell_type": "code",
   "execution_count": 10,
   "metadata": {},
   "outputs": [
    {
     "name": "stdout",
     "output_type": "stream",
     "text": [
      "[4 6 1 3 7 0 2 5]\n"
     ]
    },
    {
     "data": {
      "text/plain": [
       "<Figure size 640x480 with 0 Axes>"
      ]
     },
     "metadata": {},
     "output_type": "display_data"
    },
    {
     "data": {
      "image/png": "[encoded data removed]",
      "text/plain": [
       "<Figure size 480x480 with 2 Axes>"
      ]
     },
     "metadata": {},
     "output_type": "display_data"
    }
   ],
   "source": [
    "print(L)\n",
    "visualisation(L)"
   ]
  }
 ],
 "metadata": {
  "kernelspec": {
   "display_name": "htf",
   "language": "python",
   "name": "python3"
  },
  "language_info": {
   "codemirror_mode": {
    "name": "ipython",
    "version": 3
   },
   "file_extension": ".py",
   "mimetype": "text/x-python",
   "name": "python",
   "nbconvert_exporter": "python",
   "pygments_lexer": "ipython3",
   "version": "3.10.9"
  }
 },
 "nbformat": 4,
 "nbformat_minor": 2
}
